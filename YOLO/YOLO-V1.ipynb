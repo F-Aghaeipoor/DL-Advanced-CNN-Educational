{
 "cells": [
  {
   "cell_type": "markdown",
   "metadata": {
    "id": "hrya5qdq1i7O"
   },
   "source": [
    "# [You Only Look Once: Unified, Real-Time Object Detection](https://arxiv.org/abs/1506.02640)\n"
   ]
  },
  {
   "cell_type": "markdown",
   "metadata": {
    "id": "phI0g5krocir"
   },
   "source": [
    "# Data prepration \n"
   ]
  },
  {
   "cell_type": "markdown",
   "metadata": {
    "id": "0Nz_5qpNsZzj"
   },
   "source": [
    "## Download  VOC 2007 dataset  and unZip data\n",
    "\n",
    "Data available in: http://host.robots.ox.ac.uk/pascal/VOC/voc2007/"
   ]
  },
  {
   "cell_type": "code",
   "execution_count": 1,
   "metadata": {
    "ExecuteTime": {
     "end_time": "2021-07-04T17:42:59.599539Z",
     "start_time": "2021-07-04T17:42:59.593542Z"
    },
    "execution": {
     "iopub.execute_input": "2021-07-04T14:48:05.626271Z",
     "iopub.status.busy": "2021-07-04T14:48:05.625913Z",
     "iopub.status.idle": "2021-07-04T15:06:48.872639Z",
     "shell.execute_reply": "2021-07-04T15:06:48.871462Z",
     "shell.execute_reply.started": "2021-07-04T14:48:05.626239Z"
    },
    "id": "Y2eNB2swoZqX",
    "outputId": "c47acdd4-ccd7-477b-809f-eb4fbf28f511"
   },
   "outputs": [],
   "source": [
    "!wget http://host.robots.ox.ac.uk/pascal/VOC/voc2007/VOCtrainval_06-Nov-2007.tar\n",
    "!wget http://host.robots.ox.ac.uk/pascal/VOC/voc2007/VOCtest_06-Nov-2007.tar\n",
    "\n",
    "!tar xvf VOCtrainval_06-Nov-2007.tar\n",
    "!tar xvf VOCtest_06-Nov-2007.tar\n",
    "\n",
    "!rm VOCtrainval_06-Nov-2007.tar\n",
    "!rm VOCtest_06-Nov-2007.tar"
   ]
  },
  {
   "cell_type": "markdown",
   "metadata": {
    "id": "uABFenh-pFwY"
   },
   "source": [
    "## Process the annotations and write the labels in a text file. \n",
    "A text file is easier to consume as compared to XML."
   ]
  },
  {
   "cell_type": "code",
   "execution_count": 3,
   "metadata": {
    "execution": {
     "iopub.execute_input": "2021-07-04T15:06:48.876694Z",
     "iopub.status.busy": "2021-07-04T15:06:48.876419Z",
     "iopub.status.idle": "2021-07-04T15:06:48.889053Z",
     "shell.execute_reply": "2021-07-04T15:06:48.888248Z",
     "shell.execute_reply.started": "2021-07-04T15:06:48.876663Z"
    },
    "id": "WAe4fFNIo60F"
   },
   "outputs": [],
   "source": [
    "import argparse\n",
    "import xml.etree.ElementTree as ET\n",
    "import os\n",
    "\n",
    "parser = argparse.ArgumentParser(description='Build Annotations.')\n",
    "parser.add_argument('dir', default='..', help='Annotations.')\n",
    "\n",
    "sets = [('2007', 'train'), ('2007', 'val'), ('2007', 'test')]\n",
    "\n",
    "classes_num = {'aeroplane': 0, 'bicycle': 1, 'bird': 2, 'boat': 3, 'bottle': 4, 'bus': 5,\n",
    "               'car': 6, 'cat': 7, 'chair': 8, 'cow': 9, 'diningtable': 10, 'dog': 11,\n",
    "               'horse': 12, 'motorbike': 13, 'person': 14, 'pottedplant': 15, 'sheep': 16,\n",
    "               'sofa': 17, 'train': 18, 'tvmonitor': 19}\n",
    "\n",
    "\n",
    "def convert_annotation(year, image_id, f):\n",
    "    in_file = os.path.join('VOCdevkit/VOC%s/Annotations/%s.xml' % (year, image_id))\n",
    "    tree = ET.parse(in_file)\n",
    "    root = tree.getroot()\n",
    "\n",
    "    for obj in root.iter('object'):\n",
    "        difficult = obj.find('difficult').text\n",
    "        cls = obj.find('name').text\n",
    "        classes = list(classes_num.keys())\n",
    "        if cls not in classes or int(difficult) == 1:\n",
    "            continue\n",
    "        cls_id = classes.index(cls)\n",
    "        xmlbox = obj.find('bndbox')\n",
    "        b = (int(xmlbox.find('xmin').text), int(xmlbox.find('ymin').text),\n",
    "             int(xmlbox.find('xmax').text), int(xmlbox.find('ymax').text))\n",
    "        f.write(' ' + ','.join([str(a) for a in b]) + ',' + str(cls_id))"
   ]
  },
  {
   "cell_type": "code",
   "execution_count": 4,
   "metadata": {
    "execution": {
     "iopub.execute_input": "2021-07-04T15:06:48.891571Z",
     "iopub.status.busy": "2021-07-04T15:06:48.891041Z",
     "iopub.status.idle": "2021-07-04T15:06:49.927004Z",
     "shell.execute_reply": "2021-07-04T15:06:49.926181Z",
     "shell.execute_reply.started": "2021-07-04T15:06:48.891531Z"
    },
    "id": "FiRzSOAEpOdO",
    "outputId": "b1c9c903-bac5-4350-e7c2-2b0002ea9a8f"
   },
   "outputs": [
    {
     "name": "stdout",
     "output_type": "stream",
     "text": [
      "2007 train\n",
      "2007 val\n",
      "2007 test\n"
     ]
    }
   ],
   "source": [
    "for year, image_set in sets:\n",
    "  print(year, image_set)\n",
    "  with open(os.path.join('VOCdevkit/VOC%s/ImageSets/Main/%s.txt' % (year, image_set)), 'r') as f:\n",
    "      image_ids = f.read().strip().split()\n",
    "  with open(os.path.join(\"VOCdevkit\", '%s_%s.txt' % (year, image_set)), 'w') as f:\n",
    "      for image_id in image_ids:\n",
    "          f.write('%s/VOC%s/JPEGImages/%s.jpg' % (\"VOCdevkit\", year, image_id))\n",
    "          convert_annotation(year, image_id, f)\n",
    "          f.write('\\n')"
   ]
  },
  {
   "cell_type": "markdown",
   "metadata": {
    "id": "qyWH7zH5pUik"
   },
   "source": [
    "## Prepare the input and the output.\n",
    "The input is a (448, 448, 3) image and the output is a (7, 7, 30) tensor. The output is based on S x S x (B * 5 +C).\n",
    "\n",
    "S X S is the number of grids B is the number of bounding boxes per grid C is the number of predictions per grid"
   ]
  },
  {
   "cell_type": "code",
   "execution_count": 5,
   "metadata": {
    "execution": {
     "iopub.execute_input": "2021-07-04T15:06:49.929478Z",
     "iopub.status.busy": "2021-07-04T15:06:49.928599Z",
     "iopub.status.idle": "2021-07-04T15:06:50.103096Z",
     "shell.execute_reply": "2021-07-04T15:06:50.102223Z",
     "shell.execute_reply.started": "2021-07-04T15:06:49.929449Z"
    },
    "id": "ocCEixL4pOgO"
   },
   "outputs": [],
   "source": [
    "import cv2 as cv\n",
    "import numpy as np\n",
    "\n",
    "def read(image_path, label):\n",
    "    image = cv.imread(image_path)\n",
    "    image = cv.cvtColor(image, cv.COLOR_BGR2RGB)\n",
    "    image_h, image_w = image.shape[0:2]\n",
    "    image = cv.resize(image, (448, 448))\n",
    "    image = image / 255.\n",
    "\n",
    "    label_matrix = np.zeros([7, 7, 30])\n",
    "    for l in label:\n",
    "        l = l.split(',')\n",
    "        l = np.array(l, dtype=np.int)\n",
    "        xmin = l[0]\n",
    "        ymin = l[1]\n",
    "        xmax = l[2]\n",
    "        ymax = l[3]\n",
    "        cls = l[4]\n",
    "        x = (xmin + xmax) / 2 / image_w\n",
    "        y = (ymin + ymax) / 2 / image_h\n",
    "        w = (xmax - xmin) / image_w\n",
    "        h = (ymax - ymin) / image_h\n",
    "        loc = [7 * x, 7 * y]\n",
    "        loc_i = int(loc[1])\n",
    "        loc_j = int(loc[0])\n",
    "        y = loc[1] - loc_i\n",
    "        x = loc[0] - loc_j\n",
    "\n",
    "        if label_matrix[loc_i, loc_j, 24] == 0:\n",
    "            label_matrix[loc_i, loc_j, cls] = 1\n",
    "            label_matrix[loc_i, loc_j, 20:24] = [x, y, w, h]\n",
    "            label_matrix[loc_i, loc_j, 24] = 1  # response\n",
    "\n",
    "    return image, label_matrix"
   ]
  },
  {
   "cell_type": "markdown",
   "metadata": {
    "id": "59K_ocQHpq8K"
   },
   "source": [
    "# Training the model\n"
   ]
  },
  {
   "cell_type": "markdown",
   "metadata": {
    "id": "P0QGFqHAsr5F"
   },
   "source": [
    "## Defining a custom generator that returns a batch of input and outputs."
   ]
  },
  {
   "cell_type": "code",
   "execution_count": 6,
   "metadata": {
    "execution": {
     "iopub.execute_input": "2021-07-04T15:06:50.104673Z",
     "iopub.status.busy": "2021-07-04T15:06:50.104337Z",
     "iopub.status.idle": "2021-07-04T15:06:55.143813Z",
     "shell.execute_reply": "2021-07-04T15:06:55.142960Z",
     "shell.execute_reply.started": "2021-07-04T15:06:50.104638Z"
    },
    "id": "uIOAyDubpOi_"
   },
   "outputs": [],
   "source": [
    "from tensorflow import keras\n",
    "\n",
    "class My_Custom_Generator(keras.utils.Sequence) :\n",
    "  \n",
    "  def __init__(self, images, labels, batch_size) :\n",
    "    self.images = images\n",
    "    self.labels = labels\n",
    "    self.batch_size = batch_size\n",
    "    \n",
    "    \n",
    "  def __len__(self) :\n",
    "    return (np.ceil(len(self.images) / float(self.batch_size))).astype(np.int)\n",
    "  \n",
    "  \n",
    "  def __getitem__(self, idx) :\n",
    "    batch_x = self.images[idx * self.batch_size : (idx+1) * self.batch_size]\n",
    "    batch_y = self.labels[idx * self.batch_size : (idx+1) * self.batch_size]\n",
    "\n",
    "    train_image = []\n",
    "    train_label = []\n",
    "\n",
    "    for i in range(0, len(batch_x)):\n",
    "      img_path = batch_x[i]\n",
    "      label = batch_y[i]\n",
    "      image, label_matrix = read(img_path, label)\n",
    "      train_image.append(image)\n",
    "      train_label.append(label_matrix)\n",
    "    return np.array(train_image), np.array(train_label)"
   ]
  },
  {
   "cell_type": "markdown",
   "metadata": {
    "id": "xPyHzXTPpxOW"
   },
   "source": [
    "## Prepares arrays with inputs and outputs."
   ]
  },
  {
   "cell_type": "code",
   "execution_count": 7,
   "metadata": {
    "execution": {
     "iopub.execute_input": "2021-07-04T15:06:55.145577Z",
     "iopub.status.busy": "2021-07-04T15:06:55.145213Z",
     "iopub.status.idle": "2021-07-04T15:06:55.173064Z",
     "shell.execute_reply": "2021-07-04T15:06:55.172270Z",
     "shell.execute_reply.started": "2021-07-04T15:06:55.145538Z"
    },
    "id": "2ZTSJAbipOlu"
   },
   "outputs": [],
   "source": [
    "train_datasets = []\n",
    "val_datasets = []\n",
    "\n",
    "with open(os.path.join(\"VOCdevkit\", '2007_train.txt'), 'r') as f:\n",
    "    train_datasets = train_datasets + f.readlines()\n",
    "with open(os.path.join(\"VOCdevkit\", '2007_val.txt'), 'r') as f:\n",
    "    val_datasets = val_datasets + f.readlines()\n",
    "\n",
    "X_train = []\n",
    "Y_train = []\n",
    "\n",
    "X_val = []\n",
    "Y_val = []\n",
    "\n",
    "for item in train_datasets:\n",
    "  item = item.replace(\"\\n\", \"\").split(\" \")\n",
    "  X_train.append(item[0])\n",
    "  arr = []\n",
    "  for i in range(1, len(item)):\n",
    "    arr.append(item[i])\n",
    "  Y_train.append(arr)\n",
    "\n",
    "for item in val_datasets:\n",
    "  item = item.replace(\"\\n\", \"\").split(\" \")\n",
    "  X_val.append(item[0])\n",
    "  arr = []\n",
    "  for i in range(1, len(item)):\n",
    "    arr.append(item[i])\n",
    "  Y_val.append(arr)"
   ]
  },
  {
   "cell_type": "markdown",
   "metadata": {
    "id": "ZvOmXASCp3sV"
   },
   "source": [
    "## Create instances of the generator for our training and validation sets."
   ]
  },
  {
   "cell_type": "code",
   "execution_count": 8,
   "metadata": {
    "execution": {
     "iopub.execute_input": "2021-07-04T15:06:55.174757Z",
     "iopub.status.busy": "2021-07-04T15:06:55.174421Z",
     "iopub.status.idle": "2021-07-04T15:06:55.483773Z",
     "shell.execute_reply": "2021-07-04T15:06:55.482353Z",
     "shell.execute_reply.started": "2021-07-04T15:06:55.174720Z"
    },
    "id": "eNVh4d63pOoA",
    "outputId": "d605540d-2e9b-47a7-9aab-a3b66b2ba077"
   },
   "outputs": [
    {
     "name": "stdout",
     "output_type": "stream",
     "text": [
      "(4, 448, 448, 3)\n",
      "(4, 7, 7, 30)\n",
      "(4, 448, 448, 3)\n",
      "(4, 7, 7, 30)\n"
     ]
    }
   ],
   "source": [
    "batch_size = 4\n",
    "my_training_batch_generator = My_Custom_Generator(X_train, Y_train, batch_size)\n",
    "\n",
    "my_validation_batch_generator = My_Custom_Generator(X_val, Y_val, batch_size)\n",
    "\n",
    "x_train, y_train = my_training_batch_generator.__getitem__(0)\n",
    "x_val, y_val = my_training_batch_generator.__getitem__(0)\n",
    "print(x_train.shape)\n",
    "print(y_train.shape)\n",
    "\n",
    "print(x_val.shape)\n",
    "print(y_val.shape)"
   ]
  },
  {
   "cell_type": "markdown",
   "metadata": {
    "id": "jhKVyD7vp-rD"
   },
   "source": [
    "## Define a custom output layer\n",
    "We need to reshape the output from the model so we define a custom Keras layer for it."
   ]
  },
  {
   "cell_type": "code",
   "execution_count": 9,
   "metadata": {
    "execution": {
     "iopub.execute_input": "2021-07-04T15:06:55.486629Z",
     "iopub.status.busy": "2021-07-04T15:06:55.486263Z",
     "iopub.status.idle": "2021-07-04T15:06:55.751424Z",
     "shell.execute_reply": "2021-07-04T15:06:55.750558Z",
     "shell.execute_reply.started": "2021-07-04T15:06:55.486589Z"
    },
    "id": "H6k7LzEXp8wc"
   },
   "outputs": [],
   "source": [
    "from tensorflow import keras\n",
    "import keras.backend as K\n",
    "\n",
    "class Yolo_Reshape(keras.layers.Layer):\n",
    "  def __init__(self, target_shape):\n",
    "    super(Yolo_Reshape, self).__init__()\n",
    "    self.target_shape = tuple(target_shape)\n",
    "\n",
    "  def get_config(self):\n",
    "    config = super().get_config().copy()\n",
    "    config.update({\n",
    "        'target_shape': self.target_shape\n",
    "    })\n",
    "    return config\n",
    "\n",
    "  def call(self, input):\n",
    "    # grids 7x7\n",
    "    S = [self.target_shape[0], self.target_shape[1]]\n",
    "    # classes\n",
    "    C = 20\n",
    "    # no of bounding boxes per grid\n",
    "    B = 2\n",
    "\n",
    "    idx1 = S[0] * S[1] * C\n",
    "    idx2 = idx1 + S[0] * S[1] * B\n",
    "    \n",
    "    # class probabilities\n",
    "    class_probs = K.reshape(input[:, :idx1], (K.shape(input)[0],) + tuple([S[0], S[1], C]))\n",
    "    class_probs = K.softmax(class_probs)\n",
    "\n",
    "    #confidence\n",
    "    confs = K.reshape(input[:, idx1:idx2], (K.shape(input)[0],) + tuple([S[0], S[1], B]))\n",
    "    confs = K.sigmoid(confs)\n",
    "\n",
    "    # boxes\n",
    "    boxes = K.reshape(input[:, idx2:], (K.shape(input)[0],) + tuple([S[0], S[1], B * 4]))\n",
    "    boxes = K.sigmoid(boxes)\n",
    "\n",
    "    outputs = K.concatenate([class_probs, confs, boxes])\n",
    "    return outputs"
   ]
  },
  {
   "cell_type": "markdown",
   "metadata": {
    "id": "_vv0BTgqqIP5"
   },
   "source": [
    "## Defining the YOLO model.\n",
    "Define the model as described in the original paper.\n",
    "![](./Sources/YOLOV1.png)"
   ]
  },
  {
   "cell_type": "code",
   "execution_count": 10,
   "metadata": {
    "execution": {
     "iopub.execute_input": "2021-07-04T15:06:55.753207Z",
     "iopub.status.busy": "2021-07-04T15:06:55.752865Z",
     "iopub.status.idle": "2021-07-04T15:06:58.668465Z",
     "shell.execute_reply": "2021-07-04T15:06:58.667630Z",
     "shell.execute_reply.started": "2021-07-04T15:06:55.753175Z"
    },
    "id": "5ZeuapUKp8zD",
    "outputId": "2e61b313-df08-4445-c14e-d2d865ebfbe1"
   },
   "outputs": [
    {
     "name": "stdout",
     "output_type": "stream",
     "text": [
      "Model: \"sequential\"\n",
      "_________________________________________________________________\n",
      "Layer (type)                 Output Shape              Param #   \n",
      "=================================================================\n",
      "conv2d (Conv2D)              (None, 448, 448, 64)      9472      \n",
      "_________________________________________________________________\n",
      "max_pooling2d (MaxPooling2D) (None, 224, 224, 64)      0         \n",
      "_________________________________________________________________\n",
      "conv2d_1 (Conv2D)            (None, 224, 224, 192)     110784    \n",
      "_________________________________________________________________\n",
      "max_pooling2d_1 (MaxPooling2 (None, 112, 112, 192)     0         \n",
      "_________________________________________________________________\n",
      "conv2d_2 (Conv2D)            (None, 112, 112, 128)     24704     \n",
      "_________________________________________________________________\n",
      "conv2d_3 (Conv2D)            (None, 112, 112, 256)     295168    \n",
      "_________________________________________________________________\n",
      "conv2d_4 (Conv2D)            (None, 112, 112, 256)     65792     \n",
      "_________________________________________________________________\n",
      "conv2d_5 (Conv2D)            (None, 112, 112, 512)     1180160   \n",
      "_________________________________________________________________\n",
      "max_pooling2d_2 (MaxPooling2 (None, 56, 56, 512)       0         \n",
      "_________________________________________________________________\n",
      "conv2d_6 (Conv2D)            (None, 56, 56, 256)       131328    \n",
      "_________________________________________________________________\n",
      "conv2d_7 (Conv2D)            (None, 56, 56, 512)       1180160   \n",
      "_________________________________________________________________\n",
      "conv2d_8 (Conv2D)            (None, 56, 56, 256)       131328    \n",
      "_________________________________________________________________\n",
      "conv2d_9 (Conv2D)            (None, 56, 56, 512)       1180160   \n",
      "_________________________________________________________________\n",
      "conv2d_10 (Conv2D)           (None, 56, 56, 256)       131328    \n",
      "_________________________________________________________________\n",
      "conv2d_11 (Conv2D)           (None, 56, 56, 512)       1180160   \n",
      "_________________________________________________________________\n",
      "conv2d_12 (Conv2D)           (None, 56, 56, 256)       131328    \n",
      "_________________________________________________________________\n",
      "conv2d_13 (Conv2D)           (None, 56, 56, 512)       1180160   \n",
      "_________________________________________________________________\n",
      "conv2d_14 (Conv2D)           (None, 56, 56, 512)       262656    \n",
      "_________________________________________________________________\n",
      "conv2d_15 (Conv2D)           (None, 56, 56, 1024)      4719616   \n",
      "_________________________________________________________________\n",
      "max_pooling2d_3 (MaxPooling2 (None, 28, 28, 1024)      0         \n",
      "_________________________________________________________________\n",
      "conv2d_16 (Conv2D)           (None, 28, 28, 512)       524800    \n",
      "_________________________________________________________________\n",
      "conv2d_17 (Conv2D)           (None, 28, 28, 1024)      4719616   \n",
      "_________________________________________________________________\n",
      "conv2d_18 (Conv2D)           (None, 28, 28, 512)       524800    \n",
      "_________________________________________________________________\n",
      "conv2d_19 (Conv2D)           (None, 28, 28, 1024)      4719616   \n",
      "_________________________________________________________________\n",
      "conv2d_20 (Conv2D)           (None, 28, 28, 1024)      9438208   \n",
      "_________________________________________________________________\n",
      "conv2d_21 (Conv2D)           (None, 14, 14, 1024)      9438208   \n",
      "_________________________________________________________________\n",
      "conv2d_22 (Conv2D)           (None, 12, 12, 1024)      9438208   \n",
      "_________________________________________________________________\n",
      "conv2d_23 (Conv2D)           (None, 10, 10, 1024)      9438208   \n",
      "_________________________________________________________________\n",
      "flatten (Flatten)            (None, 102400)            0         \n",
      "_________________________________________________________________\n",
      "dense (Dense)                (None, 512)               52429312  \n",
      "_________________________________________________________________\n",
      "dense_1 (Dense)              (None, 1024)              525312    \n",
      "_________________________________________________________________\n",
      "dropout (Dropout)            (None, 1024)              0         \n",
      "_________________________________________________________________\n",
      "dense_2 (Dense)              (None, 1470)              1506750   \n",
      "_________________________________________________________________\n",
      "yolo__reshape (Yolo_Reshape) (None, 7, 7, 30)          0         \n",
      "=================================================================\n",
      "Total params: 114,617,342\n",
      "Trainable params: 114,617,342\n",
      "Non-trainable params: 0\n",
      "_________________________________________________________________\n"
     ]
    }
   ],
   "source": [
    "from tensorflow.keras.models import Sequential\n",
    "from tensorflow.keras.layers import Dense, InputLayer, Dropout, Flatten, Reshape\n",
    "from tensorflow.keras.layers import Conv2D, MaxPooling2D, GlobalMaxPooling2D\n",
    "from tensorflow.keras.regularizers import l2\n",
    "\n",
    "lrelu = keras.layers.LeakyReLU(alpha=0.1)\n",
    "\n",
    "nb_boxes=1\n",
    "grid_w=7\n",
    "grid_h=7\n",
    "cell_w=64\n",
    "cell_h=64\n",
    "img_w=grid_w*cell_w\n",
    "img_h=grid_h*cell_h\n",
    "\n",
    "model = Sequential()\n",
    "model.add(Conv2D(filters=64, kernel_size= (7, 7), strides=(1, 1), input_shape =(img_h, img_w, 3), padding = 'same', activation=lrelu, kernel_regularizer=l2(5e-4)))\n",
    "model.add(MaxPooling2D(pool_size=(2, 2), strides=(2, 2), padding = 'same'))\n",
    "\n",
    "model.add(Conv2D(filters=192, kernel_size= (3, 3), padding = 'same', activation=lrelu, kernel_regularizer=l2(5e-4)))\n",
    "model.add(MaxPooling2D(pool_size=(2, 2), strides=(2, 2), padding = 'same'))\n",
    "\n",
    "model.add(Conv2D(filters=128, kernel_size= (1, 1), padding = 'same', activation=lrelu, kernel_regularizer=l2(5e-4)))\n",
    "model.add(Conv2D(filters=256, kernel_size= (3, 3), padding = 'same', activation=lrelu, kernel_regularizer=l2(5e-4)))\n",
    "model.add(Conv2D(filters=256, kernel_size= (1, 1), padding = 'same', activation=lrelu, kernel_regularizer=l2(5e-4)))\n",
    "model.add(Conv2D(filters=512, kernel_size= (3, 3), padding = 'same', activation=lrelu, kernel_regularizer=l2(5e-4)))\n",
    "model.add(MaxPooling2D(pool_size=(2, 2), strides=(2, 2), padding = 'same'))\n",
    "\n",
    "model.add(Conv2D(filters=256, kernel_size= (1, 1), padding = 'same', activation=lrelu, kernel_regularizer=l2(5e-4)))\n",
    "model.add(Conv2D(filters=512, kernel_size= (3, 3), padding = 'same', activation=lrelu, kernel_regularizer=l2(5e-4)))\n",
    "model.add(Conv2D(filters=256, kernel_size= (1, 1), padding = 'same', activation=lrelu, kernel_regularizer=l2(5e-4)))\n",
    "model.add(Conv2D(filters=512, kernel_size= (3, 3), padding = 'same', activation=lrelu, kernel_regularizer=l2(5e-4)))\n",
    "model.add(Conv2D(filters=256, kernel_size= (1, 1), padding = 'same', activation=lrelu, kernel_regularizer=l2(5e-4)))\n",
    "model.add(Conv2D(filters=512, kernel_size= (3, 3), padding = 'same', activation=lrelu, kernel_regularizer=l2(5e-4)))\n",
    "model.add(Conv2D(filters=256, kernel_size= (1, 1), padding = 'same', activation=lrelu, kernel_regularizer=l2(5e-4)))\n",
    "model.add(Conv2D(filters=512, kernel_size= (3, 3), padding = 'same', activation=lrelu, kernel_regularizer=l2(5e-4)))\n",
    "model.add(Conv2D(filters=512, kernel_size= (1, 1), padding = 'same', activation=lrelu, kernel_regularizer=l2(5e-4)))\n",
    "model.add(Conv2D(filters=1024, kernel_size= (3, 3), padding = 'same', activation=lrelu, kernel_regularizer=l2(5e-4)))\n",
    "model.add(MaxPooling2D(pool_size=(2, 2), strides=(2, 2), padding = 'same'))\n",
    "\n",
    "model.add(Conv2D(filters=512, kernel_size= (1, 1), padding = 'same', activation=lrelu, kernel_regularizer=l2(5e-4)))\n",
    "model.add(Conv2D(filters=1024, kernel_size= (3, 3), padding = 'same', activation=lrelu, kernel_regularizer=l2(5e-4)))\n",
    "model.add(Conv2D(filters=512, kernel_size= (1, 1), padding = 'same', activation=lrelu, kernel_regularizer=l2(5e-4)))\n",
    "model.add(Conv2D(filters=1024, kernel_size= (3, 3), padding = 'same', activation=lrelu, kernel_regularizer=l2(5e-4)))\n",
    "model.add(Conv2D(filters=1024, kernel_size= (3, 3), padding = 'same', activation=lrelu, kernel_regularizer=l2(5e-4)))\n",
    "model.add(Conv2D(filters=1024, kernel_size= (3, 3), strides=(2, 2), padding = 'same'))\n",
    "\n",
    "model.add(Conv2D(filters=1024, kernel_size= (3, 3), activation=lrelu, kernel_regularizer=l2(5e-4)))\n",
    "model.add(Conv2D(filters=1024, kernel_size= (3, 3), activation=lrelu, kernel_regularizer=l2(5e-4)))\n",
    "\n",
    "model.add(Flatten())\n",
    "model.add(Dense(512))\n",
    "model.add(Dense(1024))\n",
    "model.add(Dropout(0.5))\n",
    "model.add(Dense(1470, activation='sigmoid'))\n",
    "model.add(Yolo_Reshape(target_shape=(7,7,30)))\n",
    "model.summary()\n"
   ]
  },
  {
   "cell_type": "markdown",
   "metadata": {
    "id": "7FGnmML0qb8-"
   },
   "source": [
    "## Define a custom learning rate scheduler.\n",
    "The paper uses different learning rates for different epochs. So we define a custom Callback function for the learning rate.\n",
    "\n"
   ]
  },
  {
   "cell_type": "code",
   "execution_count": 11,
   "metadata": {
    "execution": {
     "iopub.execute_input": "2021-07-04T15:06:58.670153Z",
     "iopub.status.busy": "2021-07-04T15:06:58.669798Z",
     "iopub.status.idle": "2021-07-04T15:06:58.678964Z",
     "shell.execute_reply": "2021-07-04T15:06:58.677994Z",
     "shell.execute_reply.started": "2021-07-04T15:06:58.670100Z"
    },
    "id": "ouyLrw3WqsKK"
   },
   "outputs": [],
   "source": [
    "from tensorflow import keras\n",
    "\n",
    "class CustomLearningRateScheduler(keras.callbacks.Callback):\n",
    "    \"\"\"Learning rate scheduler which sets the learning rate according to schedule.\n",
    "\n",
    "  Arguments:\n",
    "      schedule: a function that takes an epoch index\n",
    "          (integer, indexed from 0) and current learning rate\n",
    "          as inputs and returns a new learning rate as output (float).\n",
    "  \"\"\"\n",
    "\n",
    "    def __init__(self, schedule):\n",
    "        super(CustomLearningRateScheduler, self).__init__()\n",
    "        self.schedule = schedule\n",
    "\n",
    "    def on_epoch_begin(self, epoch, logs=None):\n",
    "        if not hasattr(self.model.optimizer, \"lr\"):\n",
    "            raise ValueError('Optimizer must have a \"lr\" attribute.')\n",
    "        # Get the current learning rate from model's optimizer.\n",
    "        lr = float(keras.backend.get_value(self.model.optimizer.learning_rate))\n",
    "        # Call schedule function to get the scheduled learning rate.\n",
    "        scheduled_lr = self.schedule(epoch, lr)\n",
    "        # Set the value back to the optimizer before this epoch starts\n",
    "        keras.backend.set_value(self.model.optimizer.lr, scheduled_lr)\n",
    "        print(\"\\nEpoch %05d: Learning rate is %6.4f.\" % (epoch, scheduled_lr))\n",
    "\n",
    "\n",
    "LR_SCHEDULE = [\n",
    "    # (epoch to start, learning rate) tuples\n",
    "    (0, 0.01),\n",
    "    (75, 0.001),\n",
    "    (105, 0.0001),\n",
    "]\n",
    "\n",
    "\n",
    "def lr_schedule(epoch, lr):\n",
    "    \"\"\"Helper function to retrieve the scheduled learning rate based on epoch.\"\"\"\n",
    "    if epoch < LR_SCHEDULE[0][0] or epoch > LR_SCHEDULE[-1][0]:\n",
    "        return lr\n",
    "    for i in range(len(LR_SCHEDULE)):\n",
    "        if epoch == LR_SCHEDULE[i][0]:\n",
    "            return LR_SCHEDULE[i][1]\n",
    "    return lr"
   ]
  },
  {
   "cell_type": "markdown",
   "metadata": {
    "id": "Eea3aUlwqtQA"
   },
   "source": [
    "## Define a custom loss function"
   ]
  },
  {
   "cell_type": "markdown",
   "metadata": {
    "id": "DY_qHgLCvxAu"
   },
   "source": [
    "**Loss function:**\n",
    "\n",
    "YOLO uses sum-squared error between the predictions and the ground truth to calculate loss. The loss function composes of:\n",
    "\n",
    "1.   **Classification loss:** If an object is detected, the classification loss at each cell is the squared error of the class conditional probabilities for each class,\n",
    "\n",
    "2.    **Localization loss** (errors between the predicted boundary box and the ground truth): It loss measures the errors in the predicted boundary box locations and sizes. We only count the box responsible for detecting the object.\n",
    "\n",
    "3.   **Confidence loss** (the objectness of the box) includes:\n",
    "\n",
    "    *   If an object is detected in the box\n",
    "    *   If an object is not detected in the box\n",
    "\n",
    "Most boxes do not contain any objects. This causes a class imbalance problem, i.e. we train the model to detect background more frequently than detecting objects. To remedy this, we weight this loss down by a factor λnoobj (default: 0.5).\n",
    "\n",
    "The final loss adds localization, confidence and classification losses together:\n",
    "![](./Sources/loss.png)"
   ]
  },
  {
   "cell_type": "code",
   "execution_count": 12,
   "metadata": {
    "execution": {
     "iopub.execute_input": "2021-07-04T15:06:58.681091Z",
     "iopub.status.busy": "2021-07-04T15:06:58.680639Z",
     "iopub.status.idle": "2021-07-04T15:06:58.704583Z",
     "shell.execute_reply": "2021-07-04T15:06:58.703683Z",
     "shell.execute_reply.started": "2021-07-04T15:06:58.681055Z"
    },
    "id": "YVWFrctLqGlp"
   },
   "outputs": [],
   "source": [
    "import keras.backend as K\n",
    "\n",
    "def xywh2minmax(xy, wh):\n",
    "    xy_min = xy - wh / 2\n",
    "    xy_max = xy + wh / 2\n",
    "    return xy_min, xy_max\n",
    "\n",
    "\n",
    "def iou(pred_mins, pred_maxes, true_mins, true_maxes):\n",
    "    intersect_mins = K.maximum(pred_mins, true_mins)\n",
    "    intersect_maxes = K.minimum(pred_maxes, true_maxes)\n",
    "    intersect_wh = K.maximum(intersect_maxes - intersect_mins, 0.)\n",
    "    intersect_areas = intersect_wh[..., 0] * intersect_wh[..., 1]\n",
    "\n",
    "    pred_wh = pred_maxes - pred_mins\n",
    "    true_wh = true_maxes - true_mins\n",
    "    pred_areas = pred_wh[..., 0] * pred_wh[..., 1]\n",
    "    true_areas = true_wh[..., 0] * true_wh[..., 1]\n",
    "\n",
    "    union_areas = pred_areas + true_areas - intersect_areas\n",
    "    iou_scores = intersect_areas / union_areas\n",
    "\n",
    "    return iou_scores\n",
    "\n",
    "\n",
    "def yolo_head(feats):\n",
    "    # Dynamic implementation of conv dims for fully convolutional model.\n",
    "    conv_dims = K.shape(feats)[1:3]  # assuming channels last\n",
    "    # In YOLO the height index is the inner most iteration.\n",
    "    conv_height_index = K.arange(0, stop=conv_dims[0])\n",
    "    conv_width_index = K.arange(0, stop=conv_dims[1])\n",
    "    conv_height_index = K.tile(conv_height_index, [conv_dims[1]])\n",
    "\n",
    "    # TODO: Repeat_elements and tf.split doesn't support dynamic splits.\n",
    "    # conv_width_index = K.repeat_elements(conv_width_index, conv_dims[1], axis=0)\n",
    "    conv_width_index = K.tile(\n",
    "        K.expand_dims(conv_width_index, 0), [conv_dims[0], 1])\n",
    "    conv_width_index = K.flatten(K.transpose(conv_width_index))\n",
    "    conv_index = K.transpose(K.stack([conv_height_index, conv_width_index]))\n",
    "    conv_index = K.reshape(conv_index, [1, conv_dims[0], conv_dims[1], 1, 2])\n",
    "    conv_index = K.cast(conv_index, K.dtype(feats))\n",
    "\n",
    "    conv_dims = K.cast(K.reshape(conv_dims, [1, 1, 1, 1, 2]), K.dtype(feats))\n",
    "\n",
    "    box_xy = (feats[..., :2] + conv_index) / conv_dims * 448\n",
    "    box_wh = feats[..., 2:4] * 448\n",
    "\n",
    "    return box_xy, box_wh\n",
    "\n",
    "\n",
    "def yolo_loss(y_true, y_pred):\n",
    "    label_class = y_true[..., :20]  # ? * 7 * 7 * 20\n",
    "    label_box = y_true[..., 20:24]  # ? * 7 * 7 * 4\n",
    "    response_mask = y_true[..., 24]  # ? * 7 * 7\n",
    "    response_mask = K.expand_dims(response_mask)  # ? * 7 * 7 * 1\n",
    "\n",
    "    predict_class = y_pred[..., :20]  # ? * 7 * 7 * 20\n",
    "    predict_trust = y_pred[..., 20:22]  # ? * 7 * 7 * 2\n",
    "    predict_box = y_pred[..., 22:]  # ? * 7 * 7 * 8\n",
    "\n",
    "    _label_box = K.reshape(label_box, [-1, 7, 7, 1, 4])\n",
    "    _predict_box = K.reshape(predict_box, [-1, 7, 7, 2, 4])\n",
    "\n",
    "    label_xy, label_wh = yolo_head(_label_box)  # ? * 7 * 7 * 1 * 2, ? * 7 * 7 * 1 * 2\n",
    "    label_xy = K.expand_dims(label_xy, 3)  # ? * 7 * 7 * 1 * 1 * 2\n",
    "    label_wh = K.expand_dims(label_wh, 3)  # ? * 7 * 7 * 1 * 1 * 2\n",
    "    label_xy_min, label_xy_max = xywh2minmax(label_xy, label_wh)  # ? * 7 * 7 * 1 * 1 * 2, ? * 7 * 7 * 1 * 1 * 2\n",
    "\n",
    "    predict_xy, predict_wh = yolo_head(_predict_box)  # ? * 7 * 7 * 2 * 2, ? * 7 * 7 * 2 * 2\n",
    "    predict_xy = K.expand_dims(predict_xy, 4)  # ? * 7 * 7 * 2 * 1 * 2\n",
    "    predict_wh = K.expand_dims(predict_wh, 4)  # ? * 7 * 7 * 2 * 1 * 2\n",
    "    predict_xy_min, predict_xy_max = xywh2minmax(predict_xy, predict_wh)  # ? * 7 * 7 * 2 * 1 * 2, ? * 7 * 7 * 2 * 1 * 2\n",
    "\n",
    "    iou_scores = iou(predict_xy_min, predict_xy_max, label_xy_min, label_xy_max)  # ? * 7 * 7 * 2 * 1\n",
    "    best_ious = K.max(iou_scores, axis=4)  # ? * 7 * 7 * 2\n",
    "    best_box = K.max(best_ious, axis=3, keepdims=True)  # ? * 7 * 7 * 1\n",
    "\n",
    "    box_mask = K.cast(best_ious >= best_box, K.dtype(best_ious))  # ? * 7 * 7 * 2\n",
    "\n",
    "    no_object_loss = 0.5 * (1 - box_mask * response_mask) * K.square(0 - predict_trust)\n",
    "    object_loss = box_mask * response_mask * K.square(1 - predict_trust)\n",
    "    confidence_loss = no_object_loss + object_loss\n",
    "    confidence_loss = K.sum(confidence_loss)\n",
    "\n",
    "    class_loss = response_mask * K.square(label_class - predict_class)\n",
    "    class_loss = K.sum(class_loss)\n",
    "\n",
    "    _label_box = K.reshape(label_box, [-1, 7, 7, 1, 4])\n",
    "    _predict_box = K.reshape(predict_box, [-1, 7, 7, 2, 4])\n",
    "\n",
    "    label_xy, label_wh = yolo_head(_label_box)  # ? * 7 * 7 * 1 * 2, ? * 7 * 7 * 1 * 2\n",
    "    predict_xy, predict_wh = yolo_head(_predict_box)  # ? * 7 * 7 * 2 * 2, ? * 7 * 7 * 2 * 2\n",
    "\n",
    "    box_mask = K.expand_dims(box_mask)\n",
    "    response_mask = K.expand_dims(response_mask)\n",
    "\n",
    "    box_loss = 5 * box_mask * response_mask * K.square((label_xy - predict_xy) / 448)\n",
    "    box_loss += 5 * box_mask * response_mask * K.square((K.sqrt(label_wh) - K.sqrt(predict_wh)) / 448)\n",
    "    box_loss = K.sum(box_loss)\n",
    "\n",
    "    loss = confidence_loss + class_loss + box_loss\n",
    "\n",
    "    return loss"
   ]
  },
  {
   "cell_type": "markdown",
   "metadata": {
    "id": "9kn-10pbq7of"
   },
   "source": [
    "## Add a callback for saving the weights\n",
    "define a callback to keep saving the best weights."
   ]
  },
  {
   "cell_type": "code",
   "execution_count": 13,
   "metadata": {
    "execution": {
     "iopub.execute_input": "2021-07-04T15:06:58.706283Z",
     "iopub.status.busy": "2021-07-04T15:06:58.705901Z",
     "iopub.status.idle": "2021-07-04T15:06:58.717787Z",
     "shell.execute_reply": "2021-07-04T15:06:58.716829Z",
     "shell.execute_reply.started": "2021-07-04T15:06:58.706245Z"
    },
    "id": "yGv-9GYwp84C"
   },
   "outputs": [],
   "source": [
    "from tensorflow.keras.callbacks import ModelCheckpoint\n",
    "\n",
    "mcp_save = ModelCheckpoint('weight.hdf5', save_best_only=True, monitor='val_loss', mode='min')"
   ]
  },
  {
   "cell_type": "markdown",
   "metadata": {
    "id": "RJYGDHPrrGeb"
   },
   "source": [
    "## Compile the model"
   ]
  },
  {
   "cell_type": "code",
   "execution_count": 14,
   "metadata": {
    "execution": {
     "iopub.execute_input": "2021-07-04T15:06:58.721086Z",
     "iopub.status.busy": "2021-07-04T15:06:58.720655Z",
     "iopub.status.idle": "2021-07-04T15:06:58.884578Z",
     "shell.execute_reply": "2021-07-04T15:06:58.883515Z",
     "shell.execute_reply.started": "2021-07-04T15:06:58.721047Z"
    },
    "id": "mlQEEVgtrKVs"
   },
   "outputs": [],
   "source": [
    "from tensorflow import keras\n",
    "\n",
    "model.compile(loss=yolo_loss ,optimizer='adam')"
   ]
  },
  {
   "cell_type": "markdown",
   "metadata": {
    "id": "vIV7m-CDsBLW"
   },
   "source": [
    "## Fit the model"
   ]
  },
  {
   "cell_type": "code",
   "execution_count": 15,
   "metadata": {
    "execution": {
     "iopub.execute_input": "2021-07-04T15:06:58.888241Z",
     "iopub.status.busy": "2021-07-04T15:06:58.887964Z",
     "iopub.status.idle": "2021-07-04T15:37:24.974384Z",
     "shell.execute_reply": "2021-07-04T15:37:24.973501Z",
     "shell.execute_reply.started": "2021-07-04T15:06:58.888214Z"
    },
    "id": "3sCDEgWMrKez",
    "outputId": "3e5c0047-83e7-41fa-a8e4-8980a28516bd"
   },
   "outputs": [
    {
     "name": "stdout",
     "output_type": "stream",
     "text": [
      "Epoch 1/10\n",
      "\n",
      "Epoch 00000: Learning rate is 0.0100.\n",
      "625/625 [==============================] - 191s 290ms/step - loss: 79.0249 - val_loss: 76.7182\n",
      "Epoch 2/10\n",
      "\n",
      "Epoch 00001: Learning rate is 0.0100.\n",
      "625/625 [==============================] - 178s 284ms/step - loss: 74.2832 - val_loss: 68.8249\n",
      "Epoch 3/10\n",
      "\n",
      "Epoch 00002: Learning rate is 0.0100.\n",
      "625/625 [==============================] - 178s 285ms/step - loss: 67.7126 - val_loss: 65.0436\n",
      "Epoch 4/10\n",
      "\n",
      "Epoch 00003: Learning rate is 0.0100.\n",
      "625/625 [==============================] - 178s 285ms/step - loss: 64.0397 - val_loss: 63.1061\n",
      "Epoch 5/10\n",
      "\n",
      "Epoch 00004: Learning rate is 0.0100.\n",
      "625/625 [==============================] - 178s 284ms/step - loss: 62.6702 - val_loss: 61.4825\n",
      "Epoch 6/10\n",
      "\n",
      "Epoch 00005: Learning rate is 0.0100.\n",
      "625/625 [==============================] - 179s 286ms/step - loss: 61.5111 - val_loss: 60.8272\n",
      "Epoch 7/10\n",
      "\n",
      "Epoch 00006: Learning rate is 0.0100.\n",
      "625/625 [==============================] - 178s 285ms/step - loss: 61.0692 - val_loss: 60.4525\n",
      "Epoch 8/10\n",
      "\n",
      "Epoch 00007: Learning rate is 0.0100.\n",
      "625/625 [==============================] - 178s 285ms/step - loss: 60.6868 - val_loss: 60.2222\n",
      "Epoch 9/10\n",
      "\n",
      "Epoch 00008: Learning rate is 0.0100.\n",
      "625/625 [==============================] - 179s 286ms/step - loss: 60.4264 - val_loss: 60.0818\n",
      "Epoch 10/10\n",
      "\n",
      "Epoch 00009: Learning rate is 0.0100.\n",
      "625/625 [==============================] - 178s 285ms/step - loss: 62.3737 - val_loss: 61.1526\n"
     ]
    },
    {
     "data": {
      "text/plain": [
       "<tensorflow.python.keras.callbacks.History at 0x7f671b98dc90>"
      ]
     },
     "execution_count": 15,
     "metadata": {},
     "output_type": "execute_result"
    }
   ],
   "source": [
    "model.fit(x=my_training_batch_generator,\n",
    "          steps_per_epoch = int(len(X_train) // batch_size),\n",
    "          epochs = 10,\n",
    "          verbose = 1,\n",
    "          workers= 4,\n",
    "          validation_data = my_validation_batch_generator,\n",
    "          validation_steps = int(len(X_val) // batch_size),\n",
    "          callbacks=[CustomLearningRateScheduler(lr_schedule), mcp_save ])"
   ]
  },
  {
   "cell_type": "markdown",
   "metadata": {
    "id": "NtSn6WxPzXP-"
   },
   "source": [
    "# References \n",
    "Nice document at https://jonathan-hui.medium.com/real-time-object-detection-with-yolo-yolov2-28b1b93e2088\n",
    "\n",
    "Thanks to Vivek Maskara in https://www.maskaravivek.com/post/yolov1/"
   ]
  }
 ],
 "metadata": {
  "kernelspec": {
   "display_name": "Python 3",
   "language": "python",
   "name": "python3"
  },
  "language_info": {
   "codemirror_mode": {
    "name": "ipython",
    "version": 3
   },
   "file_extension": ".py",
   "mimetype": "text/x-python",
   "name": "python",
   "nbconvert_exporter": "python",
   "pygments_lexer": "ipython3",
   "version": "3.7.4"
  },
  "toc": {
   "base_numbering": 1,
   "nav_menu": {},
   "number_sections": true,
   "sideBar": true,
   "skip_h1_title": false,
   "title_cell": "Table of Contents",
   "title_sidebar": "Contents",
   "toc_cell": false,
   "toc_position": {},
   "toc_section_display": true,
   "toc_window_display": true
  }
 },
 "nbformat": 4,
 "nbformat_minor": 4
}
